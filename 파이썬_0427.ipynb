{
 "cells": [
  {
   "cell_type": "markdown",
   "metadata": {},
   "source": [
    "https://docs.python.org/ko/3/tutorial/index.html 파이썬 기본문서\n",
    "https://www.python.org/dev/peps/pep-0008/ 파이썬 스타일 가이드"
   ]
  },
  {
   "cell_type": "markdown",
   "metadata": {},
   "source": [
    "### 1. 기본 출력"
   ]
  },
  {
   "cell_type": "markdown",
   "metadata": {},
   "source": [
    "#### print 함수 세가지 방식"
   ]
  },
  {
   "cell_type": "code",
   "execution_count": 7,
   "metadata": {},
   "outputs": [
    {
     "name": "stdout",
     "output_type": "stream",
     "text": [
      "결과값은 14 입니다.\n",
      "결과값은 14입니다.\n",
      "결과값은 14입니다.\n"
     ]
    }
   ],
   "source": [
    "print(\"결과값은\",2*7,\"입니다.\")\n",
    "print(\"결과값은 {}입니다.\".format(2*7))\n",
    "print(\"결과값은 %s입니다.\"%(2*7))"
   ]
  },
  {
   "cell_type": "markdown",
   "metadata": {},
   "source": [
    "#### 숫자와 문자열이 연산이 되는 경우"
   ]
  },
  {
   "cell_type": "code",
   "execution_count": 4,
   "metadata": {},
   "outputs": [
    {
     "name": "stdout",
     "output_type": "stream",
     "text": [
      "반가워요반가워요반가워요반가워요반가워요반가워요반가워요반가워요반가워요반가워요반가워요반가워요반가워요반가워요반가워요반가워요반가워요반가워요반가워요반가워요\n"
     ]
    }
   ],
   "source": [
    "print(\"반가워요\"*20)"
   ]
  },
  {
   "cell_type": "markdown",
   "metadata": {},
   "source": [
    "#### 2018이 숫자라서 바로 덧셈을 할 수 없으니까 str로 바꾸어줌"
   ]
  },
  {
   "cell_type": "code",
   "execution_count": 6,
   "metadata": {},
   "outputs": [
    {
     "name": "stdout",
     "output_type": "stream",
     "text": [
      "2018년12월\n"
     ]
    }
   ],
   "source": [
    "print(str(2018)+\"년\"+str(12)+\"월\")"
   ]
  },
  {
   "cell_type": "markdown",
   "metadata": {},
   "source": [
    "#### 주석은 '#'넣기"
   ]
  },
  {
   "cell_type": "markdown",
   "metadata": {},
   "source": [
    "#### 여러가지 형태"
   ]
  },
  {
   "cell_type": "code",
   "execution_count": 10,
   "metadata": {},
   "outputs": [
    {
     "name": "stdout",
     "output_type": "stream",
     "text": [
      "권현경\n",
      "권현경\n",
      "권현경\n",
      "권현경\n",
      "권현경\n",
      "\n",
      "\n",
      "\n",
      "권현경\n",
      "권현경\n",
      "권현경\n",
      "권현경\n",
      "권현경\n",
      "\n",
      "\n",
      "\n",
      "권현경\n",
      "권현경\n",
      "권현경\n",
      "권현경\n",
      "권현경\n",
      "\n"
     ]
    }
   ],
   "source": [
    "print(\"권현경\\n\"*5)\n",
    "print(\"\\n\")\n",
    "print(\"{}\\n\".format(\"권현경\")*5)\n",
    "print(\"\\n\")\n",
    "print(\"%s\\n\"%(\"권현경\")*5)"
   ]
  },
  {
   "cell_type": "code",
   "execution_count": 1,
   "metadata": {},
   "outputs": [],
   "source": [
    "#print(\"권현경\\n\"*20, end=\"\")\n",
    "#end를 유의해서 사용할 것"
   ]
  },
  {
   "cell_type": "markdown",
   "metadata": {},
   "source": [
    "#### 변수\n",
    "1. 소문자와 대문자는 서로 다르게 취급된다.\n",
    "2. 변수의 이름은 영문자와 숫자, 밑줄(_)로 이루어진다.\n",
    "3. 의미 있는 이름 사용\n",
    "4. 첫글자는 영문자나 밑줄만 가능, 두번째부터는 상관 없음\n",
    "5. 특수문자는 밑줄만 가능\n",
    "6. 이름 중간에 공백 들어가면 안됨, 단어를 구분하려면 밑줄 사용\n",
    "\n",
    "two_time(x)\n",
    "\n",
    "two time(x)\n",
    "\n",
    "two_time(o)\n",
    "\n",
    "print(o)\n",
    "\n",
    "2nd(x) <-숫자로 시작할 수 없다\n",
    "\n",
    "print(x) <- print 함수가 있으므로 변수로 사용할 수 없다\n",
    "\n",
    "numOf(권장사항) <- 두번째 단어부터 대문자(낙타체)"
   ]
  },
  {
   "cell_type": "code",
   "execution_count": 2,
   "metadata": {},
   "outputs": [
    {
     "name": "stdout",
     "output_type": "stream",
     "text": [
      "100 과 200 의 합은 300 입니다.\n",
      "100과 200의 합은 300입니다.\n",
      "100과 200의 합은 300입니다.\n",
      "100과 200의 합은 300입니다.\n"
     ]
    }
   ],
   "source": [
    "x=100\n",
    "y=200\n",
    "sum1=x+y\n",
    "print(x,\"과\",y,\"의 합은\",sum1,\"입니다.\")\n",
    "print(str(x)+\"과 \"+str(y)+\"의 합은 \"+str(sum1)+\"입니다.\")\n",
    "print(\"{}과 {}의 합은 {}입니다.\".format(x,y,sum1))\n",
    "print(\"%s과 %s의 합은 %s입니다.\"%(x,y,sum1))"
   ]
  },
  {
   "cell_type": "markdown",
   "metadata": {},
   "source": [
    "#### input() 문자열 입력\n",
    "- 문자열을 숫자로 바꾸는 함수 int() -> 숫자로 바꿔서 연산 필요할 때"
   ]
  },
  {
   "cell_type": "code",
   "execution_count": 3,
   "metadata": {},
   "outputs": [
    {
     "name": "stdout",
     "output_type": "stream",
     "text": [
      "첫번째 정수를 입력:2\n",
      "두번째 정수를 입력:3\n",
      "2 과 3 의 합은 5 입니다.\n"
     ]
    }
   ],
   "source": [
    "x=int(input(\"첫번째 정수를 입력:\"))\n",
    "y=int(input(\"두번째 정수를 입력:\"))\n",
    "sum1=x+y\n",
    "print(x,\"과\",y,\"의 합은\",sum1,\"입니다.\")"
   ]
  },
  {
   "cell_type": "markdown",
   "metadata": {},
   "source": [
    "### 2. 연산자"
   ]
  },
  {
   "cell_type": "markdown",
   "metadata": {},
   "source": [
    "#### 나머지 연산자 %\n",
    "\n",
    "8로 나눴을 때의 나머지 0~7\n",
    "\n",
    "10로 나눴을 때의 나머지 0~9"
   ]
  },
  {
   "cell_type": "code",
   "execution_count": 9,
   "metadata": {},
   "outputs": [
    {
     "name": "stdout",
     "output_type": "stream",
     "text": [
      "정수를 입력하시오:3\n",
      "1\n"
     ]
    }
   ],
   "source": [
    "number=int(input(\"정수를 입력하시오:\"))\n",
    "print(number%2)\n",
    "\n",
    "#0이 나왔을 때 짝수, 1이 나왔을 때 홀수"
   ]
  },
  {
   "cell_type": "markdown",
   "metadata": {},
   "source": [
    "#### 나누기 연산자 /\n",
    "/ 하나만 쓸 때, 실수 형태로 결과\n",
    "\n",
    "// 두개 쓸 때, 정수 형태로 결과\n",
    "\n",
    "지수연산자 -> ** 어떤 수의 몇 제곱이다"
   ]
  },
  {
   "cell_type": "code",
   "execution_count": 10,
   "metadata": {},
   "outputs": [
    {
     "name": "stdout",
     "output_type": "stream",
     "text": [
      "분자를 입력하시오:4\n",
      "분모를 입력하시오:5\n",
      "나눗셈의 몫= 0\n",
      "나눗셈의 나머지= 4\n"
     ]
    }
   ],
   "source": [
    "p=int(input(\"분자를 입력하시오:\"))\n",
    "q=int(input(\"분모를 입력하시오:\"))\n",
    "print(\"나눗셈의 몫=\",p//q)\n",
    "print(\"나눗셈의 나머지=\",p%q)"
   ]
  },
  {
   "cell_type": "code",
   "execution_count": 11,
   "metadata": {},
   "outputs": [
    {
     "name": "stdout",
     "output_type": "stream",
     "text": [
      "16 40\n"
     ]
    }
   ],
   "source": [
    "#1000초\n",
    "\n",
    "sec=1000\n",
    "min1=1000//60\n",
    "remainder=1000%60\n",
    "print(min1,remainder)"
   ]
  },
  {
   "cell_type": "markdown",
   "metadata": {},
   "source": [
    "#### 문제1\n",
    "\n",
    "아메리카노 가격 : 2000, 카페라떼 가격 : 3000, 카푸치노 가격 : 3500 일 때, 각 음료의 개수를 입력받아 총 매출을 구하는 프로그램을 작성"
   ]
  },
  {
   "cell_type": "code",
   "execution_count": 12,
   "metadata": {},
   "outputs": [
    {
     "name": "stdout",
     "output_type": "stream",
     "text": [
      "아메리카노 판매 개수:3\n",
      "카페라떼 판매 개수:5\n",
      "카푸치노 판매 개수:2\n",
      "총 매출은 28000 입니다.\n"
     ]
    }
   ],
   "source": [
    "americano_price=2000\n",
    "cafelatte_price=3000\n",
    "capucino_price=3500\n",
    "\n",
    "americanos=int(input(\"아메리카노 판매 개수:\"))\n",
    "cafelattes=int(input(\"카페라떼 판매 개수:\"))\n",
    "capucinos=int(input(\"카푸치노 판매 개수:\"))\n",
    "\n",
    "sales=americanos*americano_price\n",
    "sales=sales+cafelattes*cafelatte_price\n",
    "sales=sales+capucinos*capucino_price\n",
    "\n",
    "print(\"총 매출은\",sales,\"입니다.\")"
   ]
  },
  {
   "cell_type": "markdown",
   "metadata": {},
   "source": [
    "- 예시"
   ]
  },
  {
   "cell_type": "code",
   "execution_count": 14,
   "metadata": {},
   "outputs": [
    {
     "name": "stdout",
     "output_type": "stream",
     "text": [
      "화씨온도:32\n",
      "섭씨온도: 0.0\n"
     ]
    }
   ],
   "source": [
    "ftemp=int(input(\"화씨온도:\"))\n",
    "ctemp=(ftemp-32.0)*5.0/9.0\n",
    "print(\"섭씨온도:\",ctemp)\n",
    "\n",
    "ctemp=(ftemp-32.0)*5.0/9 #다른언어에서는 실수 나오려면 실수형식으로 파이썬은 정수도 가능"
   ]
  },
  {
   "cell_type": "code",
   "execution_count": 15,
   "metadata": {},
   "outputs": [
    {
     "name": "stdout",
     "output_type": "stream",
     "text": [
      "몸무게를 kg 단위로 입력하시오:65\n",
      "키를 미터 단위로 입력하시오:165\n",
      "당신의 BMI= 0.0023875114784205694\n"
     ]
    }
   ],
   "source": [
    "weight=float(input(\"몸무게를 kg 단위로 입력하시오:\"))\n",
    "height=float(input(\"키를 미터 단위로 입력하시오:\"))\n",
    "\n",
    "bmi=(weight/(height**2))\n",
    "print(\"당신의 BMI=\",bmi)"
   ]
  },
  {
   "cell_type": "markdown",
   "metadata": {},
   "source": [
    "#### 문제 2\n",
    "\n",
    "투입한 돈과 물건 값을 입력 받아 거스름돈을 구하는 프로그램을 작성하시오."
   ]
  },
  {
   "cell_type": "code",
   "execution_count": 16,
   "metadata": {},
   "outputs": [
    {
     "name": "stdout",
     "output_type": "stream",
     "text": [
      "투입한 돈:5000\n",
      "물건 값:3020\n",
      "거스름돈: 1980\n",
      "500원 동전의 개수: 3\n",
      "100원 동전의 개수: 4\n"
     ]
    }
   ],
   "source": [
    "money=int(input(\"투입한 돈:\"))\n",
    "price=int(input(\"물건 값:\"))\n",
    "\n",
    "change=money-price\n",
    "print(\"거스름돈:\",change)\n",
    "coin500s=change//500\n",
    "change=change%500\n",
    "coin100s=change//100\n",
    "\n",
    "print(\"500원 동전의 개수:\",coin500s)\n",
    "print(\"100원 동전의 개수:\",coin100s)"
   ]
  },
  {
   "cell_type": "markdown",
   "metadata": {},
   "source": [
    "- 만원짜리, 천원짜리, 백원짜리, 십원짜리로 얼마인지?"
   ]
  },
  {
   "cell_type": "code",
   "execution_count": 18,
   "metadata": {},
   "outputs": [
    {
     "name": "stdout",
     "output_type": "stream",
     "text": [
      "돈의 액수(최대 만원):12405\n",
      "12405는\n",
      "만원 1장\n",
      "천원 2장\n",
      "백원 4개\n",
      "십원 0개\n"
     ]
    }
   ],
   "source": [
    "money=int(input(\"돈의 액수(최대 만원):\"))\n",
    "m=money\n",
    "m10000=m//10000\n",
    "m=m%10000\n",
    "m1000=m//1000\n",
    "m=m%1000\n",
    "m100=m//100\n",
    "m=m%100\n",
    "m10=m//10\n",
    "\n",
    "print(\"\"\"{}는\n",
    "만원 {}장\n",
    "천원 {}장\n",
    "백원 {}개\n",
    "십원 {}개\"\"\".format(money,m10000,m1000,m100,m10))\n",
    "\n",
    "# \"\"\"이나 ''' <- 줄바꿈을 했을 때 쓸 수 있음\n",
    "#혹은 문자열 안의 따옴표 구분을 위해 \"That's right\"\n",
    "#혹은 주석처리(첫번째 \"\"\"가 무조건 왼쪽 끝에서 시작)"
   ]
  },
  {
   "cell_type": "markdown",
   "metadata": {},
   "source": [
    "#### 복합 연산자"
   ]
  },
  {
   "cell_type": "code",
   "execution_count": 17,
   "metadata": {},
   "outputs": [
    {
     "name": "stdout",
     "output_type": "stream",
     "text": [
      "초깃값 x= 1000\n",
      "x+=2 후의 x= 1002\n",
      "x-=2 후의 x= 1000\n"
     ]
    }
   ],
   "source": [
    "x=1000\n",
    "print(\"초깃값 x=\",x)\n",
    "x+=2 #x=x+2\n",
    "print(\"x+=2 후의 x=\",x)\n",
    "x-=2 #x=x-2\n",
    "print(\"x-=2 후의 x=\",x)"
   ]
  },
  {
   "cell_type": "markdown",
   "metadata": {},
   "source": [
    "- 조건연산자\n",
    "\n",
    "or : 둘 중 하나라도 참이 있으면 결과는 참\n",
    "\n",
    "and : 둘 중 하나라도 거짓이 있으면 결과는 거짓\n",
    "\n",
    "not>and>or"
   ]
  },
  {
   "cell_type": "markdown",
   "metadata": {},
   "source": [
    "#### 문제3\n",
    "\n",
    "국어,영어,수학 점수를 입력받아, 총점과 평균을 구하고 출력하시오."
   ]
  },
  {
   "cell_type": "code",
   "execution_count": 20,
   "metadata": {},
   "outputs": [
    {
     "name": "stdout",
     "output_type": "stream",
     "text": [
      "이름을 입력:권도리\n",
      "국어 점수 입력:80\n",
      "영어 점수 입력:92\n",
      "수학 점수 입력:100\n",
      "권도리학생의 성적\n",
      "국어 : 80\n",
      "영어 : 92\n",
      "수학 : 100\n",
      "총점 : 272\n",
      "평균 : 90.667\n"
     ]
    }
   ],
   "source": [
    "#첫번째\n",
    "\n",
    "name=input(\"이름을 입력:\")\n",
    "kor_grade=int(input(\"국어 점수 입력:\"))\n",
    "eng_grade=int(input(\"영어 점수 입력:\"))\n",
    "math_grade=int(input(\"수학 점수 입력:\"))\n",
    "total=kor_grade+eng_grade+math_grade\n",
    "avg=total/3\n",
    "print(\"\"\"%s학생의 성적\n",
    "국어 : %s\n",
    "영어 : %s\n",
    "수학 : %s\n",
    "총점 : %s\n",
    "평균 : %.3f\"\"\"%(name,kor_grade,eng_grade,math_grade,total,avg))"
   ]
  },
  {
   "cell_type": "code",
   "execution_count": 21,
   "metadata": {},
   "outputs": [
    {
     "name": "stdout",
     "output_type": "stream",
     "text": [
      "이름을 입력:권도리\n",
      "국어 점수 입력:80\n",
      "영어 점수 입력:92\n",
      "수학 점수 입력:100\n",
      "권도리학생의 성적\n",
      "국어 : 80\n",
      "영어 : 92\n",
      "수학 : 100\n",
      "총점 : 272\n",
      "평균 : 90.667\n"
     ]
    }
   ],
   "source": [
    "# 두번째\n",
    "\n",
    "name=input(\"이름을 입력:\")\n",
    "kor_grade=int(input(\"국어 점수 입력:\"))\n",
    "eng_grade=int(input(\"영어 점수 입력:\"))\n",
    "math_grade=int(input(\"수학 점수 입력:\"))\n",
    "total=kor_grade+eng_grade+math_grade\n",
    "avg=total/3\n",
    "print(\"\"\"{}학생의 성적\n",
    "국어 : {}\n",
    "영어 : {}\n",
    "수학 : {}\n",
    "총점 : {}\n",
    "평균 : {}\"\"\".format(name,kor_grade,eng_grade,math_grade,total,round(avg,3)))\n",
    "\n",
    "#round 함수 이용"
   ]
  },
  {
   "cell_type": "code",
   "execution_count": null,
   "metadata": {},
   "outputs": [],
   "source": []
  }
 ],
 "metadata": {
  "kernelspec": {
   "display_name": "Python 3",
   "language": "python",
   "name": "python3"
  },
  "language_info": {
   "codemirror_mode": {
    "name": "ipython",
    "version": 3
   },
   "file_extension": ".py",
   "mimetype": "text/x-python",
   "name": "python",
   "nbconvert_exporter": "python",
   "pygments_lexer": "ipython3",
   "version": "3.7.3"
  }
 },
 "nbformat": 4,
 "nbformat_minor": 2
}
