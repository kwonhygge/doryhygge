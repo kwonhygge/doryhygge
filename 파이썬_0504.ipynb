{
 "cells": [
  {
   "cell_type": "markdown",
   "metadata": {},
   "source": [
    "### 1. 문자열 인덱스\n",
    "\n",
    "- [0]부터 시작, 뒤에서 부터는 [-1]"
   ]
  },
  {
   "cell_type": "code",
   "execution_count": 2,
   "metadata": {},
   "outputs": [
    {
     "data": {
      "text/plain": [
       "'Next'"
      ]
     },
     "execution_count": 2,
     "metadata": {},
     "output_type": "execute_result"
    }
   ],
   "source": [
    "#문자열 슬라이싱\n",
    "a=\"Next time I fall in love\"\n",
    "a[0:4]\n",
    "#0은 시작, 4는 마지막 글자의 다음 인덱스(0 <= a < 4)"
   ]
  },
  {
   "cell_type": "code",
   "execution_count": 4,
   "metadata": {},
   "outputs": [
    {
     "data": {
      "text/plain": [
       "'I fall in love'"
      ]
     },
     "execution_count": 4,
     "metadata": {},
     "output_type": "execute_result"
    }
   ],
   "source": [
    "a[10:] # \"I fall in love\" 10부터 끝까지"
   ]
  },
  {
   "cell_type": "code",
   "execution_count": 5,
   "metadata": {},
   "outputs": [
    {
     "data": {
      "text/plain": [
       "'next time '"
      ]
     },
     "execution_count": 5,
     "metadata": {},
     "output_type": "execute_result"
    }
   ],
   "source": [
    "a[:10] # \"Next time \" 인덱스 10 전까지"
   ]
  },
  {
   "cell_type": "code",
   "execution_count": 6,
   "metadata": {},
   "outputs": [
    {
     "data": {
      "text/plain": [
       "'next time I fall in love'"
      ]
     },
     "execution_count": 6,
     "metadata": {},
     "output_type": "execute_result"
    }
   ],
   "source": [
    "a[:] # \"Next time I fall in love\" 전체 출력"
   ]
  },
  {
   "cell_type": "code",
   "execution_count": 8,
   "metadata": {},
   "outputs": [
    {
     "data": {
      "text/plain": [
       "' lov'"
      ]
     },
     "execution_count": 8,
     "metadata": {},
     "output_type": "execute_result"
    }
   ],
   "source": [
    "new_str=a[-5:-1] # \" lov\"\n",
    "new_str"
   ]
  },
  {
   "cell_type": "code",
   "execution_count": 10,
   "metadata": {},
   "outputs": [
    {
     "data": {
      "text/plain": [
       "'love'"
      ]
     },
     "execution_count": 10,
     "metadata": {},
     "output_type": "execute_result"
    }
   ],
   "source": [
    "new_str=a[-4:len(a)] #\"love\" ,len()함수는 길이를 반환\n",
    "new_str"
   ]
  },
  {
   "cell_type": "code",
   "execution_count": 11,
   "metadata": {},
   "outputs": [
    {
     "data": {
      "text/plain": [
       "'next time I fall in love'"
      ]
     },
     "execution_count": 11,
     "metadata": {},
     "output_type": "execute_result"
    }
   ],
   "source": [
    "#문자변경\n",
    "# a[0]=\"n\" (x) -> 상수라서 하나만 못바꿈\n",
    "a=\"n\"+a[1:] #새로운 글자 만들어야 함\n",
    "a"
   ]
  },
  {
   "cell_type": "code",
   "execution_count": 12,
   "metadata": {},
   "outputs": [
    {
     "name": "stdout",
     "output_type": "stream",
     "text": [
      "Next time I fall in love\n",
      "next time I fall in love\n"
     ]
    }
   ],
   "source": [
    "a=\"Next time I fall in love\"\n",
    "print(a)\n",
    "a=\"n\"+a[1:]\n",
    "print(a)"
   ]
  },
  {
   "cell_type": "markdown",
   "metadata": {},
   "source": [
    "#### 아스키코드\n",
    "- 아스키코드 48번 알아두기 숫자 0 이 아니라 문자 0\n",
    "- 1씩 더해가면 값 알 수 있음\n",
    "\n",
    "65는 A\n",
    "\n",
    "97은 a\n",
    "\n",
    "대문자와 소문자 32만큼 차이가 남\n",
    "\n",
    "ORD함수 이용해서 확인가능 CHR 함수 이용해서 문자로"
   ]
  },
  {
   "cell_type": "code",
   "execution_count": 15,
   "metadata": {},
   "outputs": [
    {
     "name": "stdout",
     "output_type": "stream",
     "text": [
      "대문자를 소문자로 변경: no one else like you\n"
     ]
    }
   ],
   "source": [
    "str1=\"No One Else Like You\"\n",
    "a1=str1[12:16]\n",
    "a2=str1[17:len(str1)]\n",
    "a2=\"Me\"\n",
    "\n",
    "\n",
    "#str1[0]=int(str1[0])+32\n",
    "#print(str1[0])\n",
    "#0 3 7 12 17\n",
    "\n",
    "print(\"대문자를 소문자로 변경: \",end=\"\")\n",
    "str3=\"n\"+str1[1:3]+\"o\"+str1[4:7]+\"e\"+str1[8:12]+\"l\"+str1[13:17]+\"y\"+str1[18:]\n",
    "print(str3)"
   ]
  },
  {
   "cell_type": "markdown",
   "metadata": {},
   "source": [
    "### 2. time 함수\n",
    "time => 현재 시간(초)를 반환해줌 (1970.1.1부터 현재까지의 초)"
   ]
  },
  {
   "cell_type": "code",
   "execution_count": 17,
   "metadata": {},
   "outputs": [
    {
     "name": "stdout",
     "output_type": "stream",
     "text": [
      "올해는 2019입니다.\n",
      "몇살이신지요? 25\n",
      "2050년에는 56살 이시군요\n"
     ]
    }
   ],
   "source": [
    "import time\n",
    "\n",
    "now=time.time()\n",
    "thisYear=int(1970+now//(365*24*3600))\n",
    "\n",
    "print(\"올해는 \"+str(thisYear)+\"입니다.\")\n",
    "age=int(input(\"몇살이신지요? \"))\n",
    "\n",
    "print(\"2050년에는 \"+str(age+2050-thisYear)+\"살 이시군요\")"
   ]
  },
  {
   "cell_type": "markdown",
   "metadata": {},
   "source": [
    "#### 문제 1\n",
    "\n",
    "현재 시간을 구하고 출력, 추가할 시간을 초 단위로 입력 받은 뒤, 추가하고 출력하시오. 출력 예시( 몇시 몇분 몇초)"
   ]
  },
  {
   "cell_type": "code",
   "execution_count": 18,
   "metadata": {},
   "outputs": [
    {
     "name": "stdout",
     "output_type": "stream",
     "text": [
      "현재 시간: 10시 41분 25초\n",
      "초 입력:100\n",
      "추가한 시간: 10시 43분 5초\n"
     ]
    }
   ],
   "source": [
    "import time\n",
    "now=time.time()\n",
    "tsec=int(now)\n",
    "sec=tsec%60\n",
    "tmin=tsec//60\n",
    "minute=tmin%60\n",
    "thour=tmin//60\n",
    "hour=thour%24\n",
    "\n",
    "print(\"현재 시간: {}시 {}분 {}초\".format(hour,minute,sec))\n",
    "\n",
    "sec_add=int(input(\"초 입력:\"))\n",
    "tsec+=sec_add\n",
    "sec=tsec%60\n",
    "tmin=tsec//60\n",
    "minute=tmin%60\n",
    "thour=tmin//60\n",
    "hour=thour%24\n",
    "\n",
    "print(\"추가한 시간: {}시 {}분 {}초\".format(hour,minute,sec))"
   ]
  },
  {
   "cell_type": "markdown",
   "metadata": {},
   "source": [
    "### 3. 리스트\n",
    "list 여러개의 자료들을 모아서 하나의 묶음으로 저장하는 것\n",
    "\n",
    "slist=['영어','수학','과학']\n",
    "\n",
    "각 항목들을 index로 접근 가능\n",
    "\n",
    "list = 0 -> 1개짜리 변수\n",
    "\n",
    "list = [] -> 여러개 저장 가능한 변수(리스트)\n",
    "\n",
    "append 함수 이용"
   ]
  },
  {
   "cell_type": "code",
   "execution_count": 19,
   "metadata": {},
   "outputs": [
    {
     "name": "stdout",
     "output_type": "stream",
     "text": [
      "[1, 2, 6, 3]\n",
      "6\n"
     ]
    }
   ],
   "source": [
    "list1=[]\n",
    "list1.append(1)\n",
    "list1.append(2)\n",
    "list1.append(6)\n",
    "list1.append(3)\n",
    "\n",
    "print(list1)\n",
    "print(list1[2])\n",
    "\n",
    "#인덱스로 접근 가능하고 0부터 시작\n",
    "#결과가 대괄호가 쳐져서 나온 건 리스트\n",
    "#아닌건 값"
   ]
  },
  {
   "cell_type": "code",
   "execution_count": 20,
   "metadata": {},
   "outputs": [
    {
     "name": "stdout",
     "output_type": "stream",
     "text": [
      "친구의 이름을 입력하시오:A\n",
      "친구의 이름을 입력하시오:B\n",
      "친구의 이름을 입력하시오:C\n",
      "친구의 이름을 입력하시오:D\n",
      "친구의 이름을 입력하시오:E\n",
      "['A', 'B', 'C', 'D', 'E']\n"
     ]
    }
   ],
   "source": [
    "friend_list=[]\n",
    "friend=input(\"친구의 이름을 입력하시오:\")\n",
    "friend_list.append(friend)\n",
    "friend=input(\"친구의 이름을 입력하시오:\")\n",
    "friend_list.append(friend)\n",
    "friend=input(\"친구의 이름을 입력하시오:\")\n",
    "friend_list.append(friend)\n",
    "friend=input(\"친구의 이름을 입력하시오:\")\n",
    "friend_list.append(friend)\n",
    "friend=input(\"친구의 이름을 입력하시오:\")\n",
    "friend_list.append(friend)\n",
    "\n",
    "print(friend_list)"
   ]
  },
  {
   "cell_type": "markdown",
   "metadata": {},
   "source": [
    "### 4.Random 모듈\n",
    "\n",
    "import random #random 모듈 사용을 위해 필요\n",
    "\n",
    "- random.randint(1,100) #1부터 100 사이의 값들 중 랜덤값이 결정(반환)\n",
    "- random.choice(list) #list에 있는 항목들 중에 랜덤으로 하나 결정(반환)\n",
    "- random.shuffle(list) #list에 있는 항목들을 다시 섞음(반환없음)\n",
    "- random.sample(list,3) #list에 있는 항목들 중 랜덤으로 3개를 추출하여 '리스트'로 반환\n",
    "- random.randrange(101) #0이상 101 미만 중에 랜덤값 결정\n",
    "- random.randrange(1,101) #1이상 101 미만 중에 랜덤값 결정\n",
    "\n",
    "- random.randrange(stop):0부터 stop-1까지\n",
    "- random.randrange(start,stop):start부터 stop-1까지\n",
    "- random.randrange(start,stop,step):start부터 stop-1까지 step만큼 증가\n",
    "- random.sample(range(1,47),6);1~46 중 6개 값을 리스트로 반환(특징:중복이 없음)"
   ]
  },
  {
   "cell_type": "code",
   "execution_count": 21,
   "metadata": {},
   "outputs": [
    {
     "name": "stdout",
     "output_type": "stream",
     "text": [
      "하고 싶은 일을 입력하세요: 게임\n",
      "하고 싶은 일을 입력하세요: 돈벌기\n",
      "하고 싶은 일을 입력하세요: 공부\n",
      "하고 싶은 일을 입력하세요: 맛있는거먹기\n",
      "하고 싶은 일을 입력하세요: 여행\n",
      "['게임', '돈벌기', '공부', '맛있는거먹기', '여행']\n",
      "['돈벌기', '여행', '공부', '게임', '맛있는거먹기']\n",
      "맛있는거먹기\n"
     ]
    }
   ],
   "source": [
    "import random\n",
    "\n",
    "wish_list=[]\n",
    "wish=input(\"하고 싶은 일을 입력하세요: \")\n",
    "wish_list.append(wish)\n",
    "wish=input(\"하고 싶은 일을 입력하세요: \")\n",
    "wish_list.append(wish)\n",
    "wish=input(\"하고 싶은 일을 입력하세요: \")\n",
    "wish_list.append(wish)\n",
    "wish=input(\"하고 싶은 일을 입력하세요: \")\n",
    "wish_list.append(wish)\n",
    "wish=input(\"하고 싶은 일을 입력하세요: \")\n",
    "wish_list.append(wish)\n",
    "\n",
    "print(wish_list)\n",
    "random.shuffle(wish_list)\n",
    "print(wish_list)\n",
    "\n",
    "print(random.choice(wish_list))\n",
    "#print(random.sample(wish_list,1))\n",
    "\n",
    "#sample을 이용하면 대괄호(리스트로 반환된 값)가 나오고\n",
    "#choice를 이용하면 그냥 값"
   ]
  },
  {
   "cell_type": "markdown",
   "metadata": {},
   "source": [
    "- random.randrange(stop):0부터 stop-1까지\n",
    "- random.randrange(start,stop):start부터 stop-1까지\n",
    "- random.randrange(start,stop,step):start부터 stop-1까지 step만큼 증가\n",
    "- random.sample(range(1,47),6);1~46 중 6개 값을 리스트로 반환(특징:중복이 없음)"
   ]
  },
  {
   "cell_type": "code",
   "execution_count": 9,
   "metadata": {},
   "outputs": [
    {
     "name": "stdout",
     "output_type": "stream",
     "text": [
      "[0]: 34\n",
      "[1]: 69\n",
      "[2]: 37\n",
      "[3]: 51\n",
      "[4]: 13\n",
      "[5]: 83\n",
      "[6]: 8\n",
      "[7]: 11\n",
      "[8]: 14\n",
      "[9]: 49\n"
     ]
    }
   ],
   "source": [
    "import random\n",
    "samp=random.sample(range(1,101),10)\n",
    "j=0\n",
    "for i in samp:\n",
    "    print(\"[%s]: %s\"%(j,i))\n",
    "    j+=1"
   ]
  },
  {
   "cell_type": "markdown",
   "metadata": {},
   "source": [
    "### 5.조건식"
   ]
  },
  {
   "cell_type": "code",
   "execution_count": 1,
   "metadata": {},
   "outputs": [
    {
     "name": "stdout",
     "output_type": "stream",
     "text": [
      "성적을 입력하시오:90\n",
      "합격입니다.\n"
     ]
    }
   ],
   "source": [
    "#예시\n",
    "score=int(input(\"성적을 입력하시오:\"))\n",
    "if score >= 60:\n",
    "    print(\"합격입니다.\")\n",
    "else:\n",
    "    print(\"불합격입니다.\")"
   ]
  },
  {
   "cell_type": "markdown",
   "metadata": {},
   "source": [
    "####중첩 if문"
   ]
  },
  {
   "cell_type": "code",
   "execution_count": 3,
   "metadata": {},
   "outputs": [
    {
     "name": "stdout",
     "output_type": "stream",
     "text": [
      "정수를 입력하시오:30\n",
      "양수입니다.\n"
     ]
    }
   ],
   "source": [
    "num=int(input(\"정수를 입력하시오:\"))\n",
    "if num>=0:\n",
    "    if num==0:\n",
    "        print(\"0입니다.\")\n",
    "    else:\n",
    "        print(\"양수입니다.\")\n",
    "else:\n",
    "    print(\"음수입니다.\")"
   ]
  },
  {
   "cell_type": "markdown",
   "metadata": {},
   "source": [
    "#### 터틀 그래픽 문제1\n",
    "다음 조건에 맞도록 프로그램을 작성하시오.\n",
    "- x 좌표값과 y 좌표값을 입력받는다(터틀 그래픽에서 입력)\n",
    "- (0은 입력하지 않는 것으로 가정)\n",
    "- x 좌표값과 y 좌표값의 부호가 같은 경우 원점을 기준으로 대칭되는 위치까지 선을 그린다.\n",
    "- 부호가 다른 경우에는 반지름이 50인 원을 원점을 기준으로 대칭되는 위치에 각각 그린다."
   ]
  },
  {
   "cell_type": "markdown",
   "metadata": {},
   "source": [
    "#### 문제2\n",
    "다음 조건에 맞도록 프로그램을 작성하시오.\n",
    "\n",
    "- 키보드 구매 개수를 입력받는다. 키보드 하나의 가격은 8500원이다.\n",
    "- 키보드를 5개 이상 10개 미만으로 사면 5% 할인, 10개 이상 20개 미만인 경우 10% 할인, 20개 이상 30개 미만인 경우 15% 할인, 30개 이상은 20% 할인을 받는다고 한다.\n",
    "- 단 구매 개수가 50개를 초과할 수는 없다.\n",
    "- 음수가 입력되어도 잘 동작할 수 있도록 한다.(-5라고 입력하면 5개임)"
   ]
  },
  {
   "cell_type": "code",
   "execution_count": 2,
   "metadata": {},
   "outputs": [
    {
     "name": "stdout",
     "output_type": "stream",
     "text": [
      "put the number of keyboard: 42\n",
      "The total price is 285600\n"
     ]
    }
   ],
   "source": [
    "keyb=8500\n",
    "flag=True #상태 변수\n",
    "num=int(input(\"put the number of keyboard: \"))\n",
    "if num<0:\n",
    "    num=-num\n",
    "total_price=keyb*num\n",
    "\n",
    "if num>=0 and num<5:\n",
    "    total_price*=1\n",
    "elif num>=5 and num<10:\n",
    "    total_price*=0.95\n",
    "elif num>=10 and num<20:\n",
    "    total_price*=0.9\n",
    "elif num>=20 and num<30:\n",
    "    total_price*=0.85\n",
    "elif num>=30 and num<=50:\n",
    "    total_price*=0.8\n",
    "else:\n",
    "    flag=False\n",
    "\n",
    "if flag:\n",
    "    print(\"The total price is %.0f\"%total_price)\n",
    "else:\n",
    "    print(\"You cannot input over than 50\")\n"
   ]
  },
  {
   "cell_type": "markdown",
   "metadata": {},
   "source": [
    "#### 문제 2\n",
    "다음 조건에 맞는 프로그램을 작성하시오.\n",
    "\n",
    "- 수 2개를 입력받는다.\n",
    "- 다음으로 연산자를 입력받는다.(+,-,*,//,/,%,**)\n",
    "- 입력한 연산을 수행한 결과가 출력되도록 한다.\n",
    "- 단, //,/,% 연산자의 경우 2번째 입력한 수가 0이면 \"분모가 0입니다.\"라고 출력되도록 한다.\n",
    "- 연산자가 잘못 입력된 경우 에러메세지를 출력해준다.(연산자가 잘못 입력되었습니다.)\n",
    "- 출력 시 연산이 수행되는 모습도 출력되도록 한다.\n"
   ]
  },
  {
   "cell_type": "code",
   "execution_count": 4,
   "metadata": {},
   "outputs": [
    {
     "name": "stdout",
     "output_type": "stream",
     "text": [
      "첫번째 수를 입력하시오:50\n",
      "두번째 수를 입력하시오:4\n",
      "연산자를 입력하세요(+,-,*,//,/,%,**):-\n",
      "50-4=46\n"
     ]
    }
   ],
   "source": [
    "num1=int(input(\"첫번째 수를 입력하시오:\"))\n",
    "num2=int(input(\"두번째 수를 입력하시오:\"))\n",
    "op=input(\"연산자를 입력하세요(+,-,*,//,/,%,**):\")\n",
    "if op==\"+\":\n",
    "    print(\"%s+%s=%s\"%(num1,num2,(num1+num2)))\n",
    "elif op==\"-\":\n",
    "    print(\"%s-%s=%s\"%(num1,num2,(num1-num2)))\n",
    "elif op==\"*\":\n",
    "    print(\"%s*%s=%s\"%(num1,num2,(num1*num2)))\n",
    "elif op==\"//\":\n",
    "    if num2!=0:\n",
    "        print(\"%s//%s=%s\"%(num1,num2,(num1//num2)))\n",
    "    else:\n",
    "        print(\"분모가 0입니다.\")\n",
    "elif op==\"/\":\n",
    "    if num2!=0:\n",
    "        print(\"%s/%s=%s\"%(num1,num2,(num1/num2)))\n",
    "    else:\n",
    "        print(\"분모가 0입니다.\")\n",
    "elif op==\"%\":\n",
    "    if num2!=0:\n",
    "        print(\"%s%%%s=%s\"%(num1,num2,(num1%num2))) #형식 지정자 쓸 때 %연산자 쓰려면 두번\n",
    "    else:\n",
    "        print(\"분모가 0입니다.\")\n",
    "elif op==\"**\":\n",
    "    if num2!=0:\n",
    "        print(\"%s**%s=%s\"%(num1,num2,(num1**num2)))\n",
    "    else:\n",
    "        print(\"분모가 0입니다.\")\n",
    "else:\n",
    "    print(\"%s 연산자는 없습니다.\"%op)"
   ]
  },
  {
   "cell_type": "markdown",
   "metadata": {},
   "source": [
    "#### 문제3\n",
    "다음 조건에 맞도록 프로그램을 작성하시오.\n",
    "\n",
    "- 월을 입력받는다.\n",
    "- 입력한 월의 일수가 어떻게 되는지 출력한다.\n",
    "- 단, 2월의 경우 년도를 입력받는다.\n",
    "- 입력한 년도가 윤년이면 29일, 아니면 28일을 출력한다.\n"
   ]
  },
  {
   "cell_type": "code",
   "execution_count": 4,
   "metadata": {},
   "outputs": [
    {
     "name": "stdout",
     "output_type": "stream",
     "text": [
      "월을 입력:2\n",
      "년도를 입력하시오:2019\n",
      "2019년 2월은 28일까지 있습니다.\n"
     ]
    }
   ],
   "source": [
    "month = int(input(\"월을 입력:\"))\n",
    "if month in [1,3,5,7,8,10,12]:\n",
    "    print(\"%s월은 31일까지 있습니다.\"%month)\n",
    "elif month in [4,6,9,11]:\n",
    "    print(\"%s월은 30일까지 있습니다.\"%month)\n",
    "elif month ==2:\n",
    "    year=int(input(\"년도를 입력하시오:\"))\n",
    "    if ((year%4==0) and (year%100!=0)) or year%400==0:\n",
    "        print(\"%s년 %s월은 29일까지 있습니다.\"%(year,month))\n",
    "    else:\n",
    "        print(\"%s년 %s월은 28일까지 있습니다.\"%(year,month))\n",
    "else:\n",
    "    print(\"%s월은 없습니다.\"%month)"
   ]
  },
  {
   "cell_type": "markdown",
   "metadata": {},
   "source": [
    "#### 문제4\n",
    "다음 조건에 맞도록 프로그램을 작성하시오.\n",
    "\n",
    "- 키보드로 값을 2개 입력받도록 한다.\n",
    "- 입력받은 값 2개는 각각 랜덤으로 추출할 범위에 해당한다.\n",
    "- 첫 번째 입력한 수가 두번째 입력한 수보다 크더라도 잘 동작하도록 한다.\n",
    "- 입력한 두 수 사이의 랜덤값을 추출하되 두 수 간의 총 개수의 1/3개 만큼의 랜덤값만큼을 추출하여 출력하면 된다.\n",
    "- ex) 0~10이라고 하면 총 11개이므로 이 중 1/3인 3개가 추출\n",
    "- 한 라인에 10개씩 출력되도록 한다"
   ]
  },
  {
   "cell_type": "code",
   "execution_count": 10,
   "metadata": {},
   "outputs": [
    {
     "name": "stdout",
     "output_type": "stream",
     "text": [
      "수 1:10\n",
      "수 2:200\n",
      " 125 106  24 152  11  27  88 164  60  94\n",
      "  49  26  21 181 200 125  20  33 196 110\n",
      "  96 169 131  92 162 159  91  63  95 162\n",
      "  41 122 110  78  16 176  46 176 178 154\n",
      "  81  95  51 121  27 134  67 196 141  73\n",
      "  97 186 196  46  49  44 200 169  10  38\n",
      " 140  22 118"
     ]
    }
   ],
   "source": [
    "import random\n",
    "\n",
    "n1=int(input(\"수 1:\"))\n",
    "n2=int(input(\"수 2:\"))\n",
    "\n",
    "if n1>n2 : #첫번째 수가 더 크면 두 수를 교환\n",
    "    temp=n1\n",
    "    n1=n2\n",
    "    n2=temp\n",
    "\n",
    "num=(n2-n1+1)//3 #두 수 사이의 추출 개수 계산\n",
    "\n",
    "\n",
    "for i in range(num):#추출 개수만큼 반복\n",
    "    print(\"%4s\"%(random.randrange(n1,n2+1)),end=\"\") #%4s 4자리라는 의미(네 자리 확보하고 출력)\n",
    "    if (i+1) %10 ==0: #한 라인에 10개가 되면 줄바꿈\n",
    "        print()"
   ]
  },
  {
   "cell_type": "markdown",
   "metadata": {},
   "source": [
    "### 6. for 문\n",
    "for 변수명 in 리스트"
   ]
  },
  {
   "cell_type": "code",
   "execution_count": 3,
   "metadata": {},
   "outputs": [
    {
     "name": "stdout",
     "output_type": "stream",
     "text": [
      "Hello\n",
      "Hello\n",
      "Hello\n",
      "Hello\n",
      "Hello\n"
     ]
    }
   ],
   "source": [
    "for i in [1,2,3,4,5]:\n",
    "    print(\"Hello\")"
   ]
  },
  {
   "cell_type": "markdown",
   "metadata": {},
   "source": [
    "#### range() 함수\n",
    "\n",
    "for 변수 in range(종료값):\n",
    "\n",
    "0부터 종료값-1까지의 숫자 반환"
   ]
  },
  {
   "cell_type": "code",
   "execution_count": 7,
   "metadata": {},
   "outputs": [
    {
     "name": "stdout",
     "output_type": "stream",
     "text": [
      "12345"
     ]
    }
   ],
   "source": [
    "for i in range(1,6,1):\n",
    "    print(i,end=\"\")"
   ]
  },
  {
   "cell_type": "markdown",
   "metadata": {},
   "source": [
    "무한루프와 break\n",
    "\n",
    "\n",
    "while True:\n",
    "\t문장1\n",
    "\tbreak -> while 문을 빠져나옴\n",
    "\t문장2\n",
    "    \n",
    "문장3->문장3으로 실행 문장2는 실행 ㄴㄴ\n",
    "\n",
    "만약 문장 2를 실행하려면\n",
    "\n",
    "while True:\n",
    "\t문장1\n",
    "\t if 조건식:\n",
    "\t\tbreak\n",
    "\t문장2\n",
    "\n",
    "\n",
    "문장3->조건식이 참이 됐을 때 break로 빠져나옴"
   ]
  },
  {
   "cell_type": "code",
   "execution_count": null,
   "metadata": {},
   "outputs": [],
   "source": []
  }
 ],
 "metadata": {
  "kernelspec": {
   "display_name": "Python 3",
   "language": "python",
   "name": "python3"
  },
  "language_info": {
   "codemirror_mode": {
    "name": "ipython",
    "version": 3
   },
   "file_extension": ".py",
   "mimetype": "text/x-python",
   "name": "python",
   "nbconvert_exporter": "python",
   "pygments_lexer": "ipython3",
   "version": "3.7.3"
  }
 },
 "nbformat": 4,
 "nbformat_minor": 2
}
