{
 "cells": [
  {
   "cell_type": "markdown",
   "metadata": {},
   "source": [
    "# Python chapter 2"
   ]
  },
  {
   "cell_type": "markdown",
   "metadata": {},
   "source": [
    "-시퀀스를 단일하게 처리(공통된 연산 적용 가능) : 코드를 새로 구현할 필요 없음"
   ]
  },
  {
   "cell_type": "markdown",
   "metadata": {},
   "source": [
    "## 2.1 내장 시퀀스 개요"
   ]
  },
  {
   "cell_type": "markdown",
   "metadata": {},
   "source": [
    "#### 파이썬 표준 라이브러리에 따른 분류"
   ]
  },
  {
   "cell_type": "markdown",
   "metadata": {},
   "source": [
    "1. 컨테이너 시퀀스: 서로 다른 자료형의 항목들을 담을 수 있는 list, tuple, collections.deque형\n",
    " - 객체에 대한 참조를 담고 있으며 객체는 어떠한 자료형도 가능\n",
    "2. 균일 시퀀스 : 단 하나의 자료형만 담을 수 있는 str, bytes, bytearray, memoryview, array.array형\n",
    " - 객체에 대한 참조 대신 자신의 메모리 공간에 각 항목의 값을 직접 담음\n",
    " - 메모리 더 적게 사용하지만, 문자,바이트,숫자 등 기본적인 자료형만 저장 가능"
   ]
  },
  {
   "cell_type": "markdown",
   "metadata": {},
   "source": [
    "#### 가변성에 따른 분류"
   ]
  },
  {
   "cell_type": "markdown",
   "metadata": {},
   "source": [
    "1. 가변 시퀀스\n",
    " - list,bytearray,array.array,collections.deque,memoryview형\n",
    "2. 불변 시퀀스\n",
    " - tuple,str,bytes형"
   ]
  },
  {
   "cell_type": "markdown",
   "metadata": {},
   "source": [
    "## 2.2 지능형 리스트와 제너레이터 표현식"
   ]
  },
  {
   "cell_type": "markdown",
   "metadata": {},
   "source": [
    "### 2.2.1 지능형 리스트와 가독성"
   ]
  },
  {
   "cell_type": "markdown",
   "metadata": {},
   "source": [
    "예제 2-1) 버전1(지능형 리스트가 아닐 때)"
   ]
  },
  {
   "cell_type": "code",
   "execution_count": 1,
   "metadata": {},
   "outputs": [
    {
     "data": {
      "text/plain": [
       "[36, 33, 64, 35]"
      ]
     },
     "execution_count": 1,
     "metadata": {},
     "output_type": "execute_result"
    }
   ],
   "source": [
    "symbols='$!@#'\n",
    "codes=[]\n",
    "for symbol in symbols:\n",
    "    codes.append(ord(symbol))\n",
    "codes"
   ]
  },
  {
   "cell_type": "markdown",
   "metadata": {},
   "source": [
    "예제 2-2) 버전2(지능형 리스트일 때)"
   ]
  },
  {
   "cell_type": "code",
   "execution_count": 3,
   "metadata": {},
   "outputs": [
    {
     "data": {
      "text/plain": [
       "[36, 33, 64, 35]"
      ]
     },
     "execution_count": 3,
     "metadata": {},
     "output_type": "execute_result"
    }
   ],
   "source": [
    "symbols='$!@#'\n",
    "codes=[ord(symbol) for symbol in symbols]\n",
    "codes"
   ]
  },
  {
   "cell_type": "markdown",
   "metadata": {},
   "source": [
    "예제 2-2가 훨씬 읽기 쉬움 하지만,\n",
    "- 생성된 리스트를 사용하지 않을 거라면 지능형 리스트 구문을 사용하지 않는 편이 나음\n",
    "- 코드를 짧게 만들어야 함(두 줄 이상 넘어가는 경우에는 for 문이나 코드 분할)"
   ]
  },
  {
   "cell_type": "markdown",
   "metadata": {},
   "source": [
    "_ 지능형 리스트는 더 이상 메모리를 누수하지 않는다 _"
   ]
  },
  {
   "cell_type": "code",
   "execution_count": 1,
   "metadata": {},
   "outputs": [],
   "source": [
    "x='my precious'"
   ]
  },
  {
   "cell_type": "code",
   "execution_count": 2,
   "metadata": {},
   "outputs": [],
   "source": [
    "dummy=[x for x in 'ABC']"
   ]
  },
  {
   "cell_type": "code",
   "execution_count": 3,
   "metadata": {},
   "outputs": [
    {
     "data": {
      "text/plain": [
       "'C'"
      ]
     },
     "execution_count": 3,
     "metadata": {},
     "output_type": "execute_result"
    }
   ],
   "source": [
    "x"
   ]
  },
  {
   "cell_type": "markdown",
   "metadata": {},
   "source": [
    "파이썬 2에서는 처음 x에 넣었던 내용이 사라짐. 파이썬 3에서는 이렇게 되지 않음"
   ]
  },
  {
   "cell_type": "markdown",
   "metadata": {},
   "source": [
    "x='ABC'\n",
    "\n",
    "dummy=[ord(x) for x in x]\n",
    "\n",
    "x\n",
    "\n",
    "결과값->'ABC'\n",
    "\n",
    "dummy\n",
    "\n",
    "결과값->[65,66,67]\n",
    "\n",
    "1. x의 값이 유지된다.\n",
    "2. 지능형 리스트가 기대했던 리스트를 만든다."
   ]
  },
  {
   "cell_type": "code",
   "execution_count": null,
   "metadata": {},
   "outputs": [],
   "source": []
  }
 ],
 "metadata": {
  "kernelspec": {
   "display_name": "Python 2",
   "language": "python",
   "name": "python2"
  },
  "language_info": {
   "codemirror_mode": {
    "name": "ipython",
    "version": 2
   },
   "file_extension": ".py",
   "mimetype": "text/x-python",
   "name": "python",
   "nbconvert_exporter": "python",
   "pygments_lexer": "ipython2",
   "version": "2.7.16"
  }
 },
 "nbformat": 4,
 "nbformat_minor": 2
}
